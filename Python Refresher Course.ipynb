{
 "cells": [
  {
   "cell_type": "markdown",
   "id": "1fcd1f20-00c0-43de-b564-c1e09e7168ab",
   "metadata": {},
   "source": [
    "# Python Refresher Course\n",
    "by the Kapteyn Learning Community"
   ]
  },
  {
   "cell_type": "code",
   "execution_count": null,
   "id": "cd0e7967-8c2a-420f-ac8a-edccd2f21564",
   "metadata": {},
   "outputs": [],
   "source": []
  }
 ],
 "metadata": {
  "kernelspec": {
   "display_name": "Python 3 (ipykernel)",
   "language": "python",
   "name": "python3"
  },
  "language_info": {
   "codemirror_mode": {
    "name": "ipython",
    "version": 3
   },
   "file_extension": ".py",
   "mimetype": "text/x-python",
   "name": "python",
   "nbconvert_exporter": "python",
   "pygments_lexer": "ipython3",
   "version": "3.11.6"
  }
 },
 "nbformat": 4,
 "nbformat_minor": 5
}
